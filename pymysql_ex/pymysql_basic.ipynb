{
 "cells": [
  {
   "cell_type": "markdown",
   "id": "df0d0601",
   "metadata": {},
   "source": [
    "# pymysql 실습"
   ]
  },
  {
   "cell_type": "markdown",
   "id": "c9016c61",
   "metadata": {},
   "source": [
    "- pip install pymysql"
   ]
  },
  {
   "cell_type": "code",
   "execution_count": 1,
   "id": "ab46b8d1",
   "metadata": {},
   "outputs": [],
   "source": [
    "import pymysql"
   ]
  },
  {
   "cell_type": "markdown",
   "id": "8e8bac08",
   "metadata": {},
   "source": [
    "# 1. DB연결\n",
    "- id, pw, host, port, db"
   ]
  },
  {
   "cell_type": "code",
   "execution_count": 2,
   "id": "4466b7c4",
   "metadata": {},
   "outputs": [],
   "source": [
    "# '127.0.0.1' = 'localhost'\n",
    "conn = pymysql.connect(\n",
    "    host = '127.0.0.1',\n",
    "    port = 3306,\n",
    "    user = 'YuJeong',\n",
    "    password = '1234',\n",
    "    db = 'csm_db',\n",
    "    charset = 'utf8'\n",
    ")"
   ]
  },
  {
   "cell_type": "markdown",
   "id": "ff3578ef",
   "metadata": {},
   "source": [
    "# 2. DB cursor 생성\n",
    "- 데이터 셔틀버스와 같음"
   ]
  },
  {
   "cell_type": "code",
   "execution_count": null,
   "id": "5ce4c4d8",
   "metadata": {},
   "outputs": [],
   "source": [
    "# 커서 객체 생성\n",
    "cur = conn.cursor()"
   ]
  },
  {
   "cell_type": "code",
   "execution_count": 23,
   "id": "33c80f0a",
   "metadata": {},
   "outputs": [
    {
     "data": {
      "text/plain": [
       "0"
      ]
     },
     "execution_count": 23,
     "metadata": {},
     "output_type": "execute_result"
    }
   ],
   "source": [
    "# items 테이블이 존재하면 삭제\n",
    "cur.execute(\"drop table if exists items\")"
   ]
  },
  {
   "cell_type": "markdown",
   "id": "de24b687",
   "metadata": {},
   "source": [
    "# 3. sql 명령 실행"
   ]
  },
  {
   "cell_type": "code",
   "execution_count": 28,
   "id": "d7924155",
   "metadata": {},
   "outputs": [
    {
     "data": {
      "text/plain": [
       "0"
      ]
     },
     "execution_count": 28,
     "metadata": {},
     "output_type": "execute_result"
    }
   ],
   "source": [
    "# itmes 테이블 만들기 : 테이블이 존재하지 않으면 생성\n",
    "create_sql = \"\"\"\n",
    "CREATE TABLE IF NOT EXISTS items(\n",
    "    id INTEGER PRIMARY KEY AUTO_INCREMENT,\n",
    "    code TEXT NOT NULL,\n",
    "    name TEXT NOT NULL,\n",
    "    price INTEGER NULL\n",
    ")\n",
    "\"\"\"\n",
    "cur.execute(create_sql)"
   ]
  },
  {
   "cell_type": "markdown",
   "id": "8d2060c5",
   "metadata": {},
   "source": [
    "## 데이터 입력 (Create)"
   ]
  },
  {
   "cell_type": "code",
   "execution_count": 29,
   "id": "0310668c",
   "metadata": {},
   "outputs": [
    {
     "data": {
      "text/plain": [
       "1"
      ]
     },
     "execution_count": 29,
     "metadata": {},
     "output_type": "execute_result"
    }
   ],
   "source": [
    "# 레코드 1개 테이블에 추가하기\n",
    "INSERT_SQL= \"\"\"\n",
    "INSERT INTO items(code, name, price)\n",
    "    VALUES(%s, %s, %s)\n",
    "\"\"\"\n",
    "cur.execute(INSERT_SQL, ('A001', 'TV', 1000000))"
   ]
  },
  {
   "cell_type": "code",
   "execution_count": 30,
   "id": "99e15ee9",
   "metadata": {},
   "outputs": [],
   "source": [
    "# 변경사항 저장, 반드시 실행해야만 테이블에 반영됨.\n",
    "conn.commit()"
   ]
  },
  {
   "cell_type": "code",
   "execution_count": 31,
   "id": "95e8b390",
   "metadata": {},
   "outputs": [
    {
     "data": {
      "text/plain": [
       "3"
      ]
     },
     "execution_count": 31,
     "metadata": {},
     "output_type": "execute_result"
    }
   ],
   "source": [
    "# 여러개의 레코드를 한꺼번에 추가하기\n",
    "datas = (\n",
    "    ('A0002', '에어컨 30평형', 2000000),\n",
    "    ('A0003', '최신형 스마트폰', 1000000),\n",
    "    ('A0004', '최신형 노트북', 500000)\n",
    ")\n",
    "cur.executemany(INSERT_SQL, datas)"
   ]
  },
  {
   "cell_type": "code",
   "execution_count": 32,
   "id": "5f02dfea",
   "metadata": {},
   "outputs": [],
   "source": [
    "# 변경사항 저장, 반드시 실행해야만 테이블에 반영됨.\n",
    "conn.commit()"
   ]
  },
  {
   "cell_type": "markdown",
   "id": "5120bfd7",
   "metadata": {},
   "source": [
    "## 데이터 읽기 (Read)"
   ]
  },
  {
   "cell_type": "code",
   "execution_count": 33,
   "id": "73be1d78",
   "metadata": {},
   "outputs": [
    {
     "data": {
      "text/plain": [
       "4"
      ]
     },
     "execution_count": 33,
     "metadata": {},
     "output_type": "execute_result"
    }
   ],
   "source": [
    "# select 문\n",
    "select_sql1 = \"SELECT * FROM items\"\n",
    "cur.execute(select_sql1)"
   ]
  },
  {
   "cell_type": "code",
   "execution_count": null,
   "id": "277ce968",
   "metadata": {},
   "outputs": [],
   "source": [
    "# DB에서 조회한 결과를 확인하기 위해서는 fetch 수행\n",
    "rows = cur.fetchall()"
   ]
  },
  {
   "cell_type": "code",
   "execution_count": 18,
   "id": "21aaf554",
   "metadata": {},
   "outputs": [
    {
     "data": {
      "text/plain": [
       "((1, 'A001', 'TV', 1000000),\n",
       " (2, 'A0002', '에어컨 30평형', 2000000),\n",
       " (3, 'A0003', '최신형 스마트폰', 1000000),\n",
       " (4, 'A0004', '최신형 노트북', 500000))"
      ]
     },
     "execution_count": 18,
     "metadata": {},
     "output_type": "execute_result"
    }
   ],
   "source": [
    "rows"
   ]
  },
  {
   "cell_type": "code",
   "execution_count": 40,
   "id": "1900f1b3",
   "metadata": {},
   "outputs": [
    {
     "name": "stdout",
     "output_type": "stream",
     "text": [
      "1 - ('A001', 'TV', 1000000)\n",
      "2 - ('A0002', '에어컨 30평형', 2000000)\n",
      "3 - ('A0003', '최신형 스마트폰', 1000000)\n",
      "4 - ('A0004', '최신형 노트북', 500000)\n"
     ]
    }
   ],
   "source": [
    "for idx, row in enumerate(rows):\n",
    "    print(f\"{idx+1} - {row[1:]}\")"
   ]
  },
  {
   "cell_type": "code",
   "execution_count": 41,
   "id": "3778a023",
   "metadata": {},
   "outputs": [
    {
     "data": {
      "text/plain": [
       "3"
      ]
     },
     "execution_count": 41,
     "metadata": {},
     "output_type": "execute_result"
    }
   ],
   "source": [
    "# select 문, 2개의 레코드\n",
    "select_sql1 = \"SELECT * FROM items LIMIT 3\"\n",
    "cur.execute(select_sql1)"
   ]
  },
  {
   "cell_type": "code",
   "execution_count": 42,
   "id": "337506a6",
   "metadata": {},
   "outputs": [
    {
     "data": {
      "text/plain": [
       "((1, 'A001', 'TV', 1000000),\n",
       " (2, 'A0002', '에어컨 30평형', 2000000),\n",
       " (3, 'A0003', '최신형 스마트폰', 1000000))"
      ]
     },
     "execution_count": 42,
     "metadata": {},
     "output_type": "execute_result"
    }
   ],
   "source": [
    "rows = cur.fetchall()\n",
    "rows"
   ]
  },
  {
   "cell_type": "code",
   "execution_count": 43,
   "id": "149566f3",
   "metadata": {},
   "outputs": [
    {
     "data": {
      "text/plain": [
       "()"
      ]
     },
     "execution_count": 43,
     "metadata": {},
     "output_type": "execute_result"
    }
   ],
   "source": [
    "# fetchall 한번 수행하면 데이터는 비워짐\n",
    "# 위에서 fetchall() 실행했기 때문에 빈결과가 나옴\n",
    "cur.fetchall()"
   ]
  },
  {
   "cell_type": "markdown",
   "id": "add0448d",
   "metadata": {},
   "source": [
    "## 수정 (Update)"
   ]
  },
  {
   "cell_type": "code",
   "execution_count": 44,
   "id": "951bd623",
   "metadata": {},
   "outputs": [
    {
     "data": {
      "text/plain": [
       "1"
      ]
     },
     "execution_count": 44,
     "metadata": {},
     "output_type": "execute_result"
    }
   ],
   "source": [
    "update_sql = \"\"\"\n",
    "UPDATE items\n",
    "SET price = %s\n",
    "WHERE code = %s\n",
    "\"\"\"\n",
    "\n",
    "price = 1500000\n",
    "code = 'A0001'\n",
    "cur.execute(update_sql, (price, code))"
   ]
  },
  {
   "cell_type": "code",
   "execution_count": 45,
   "id": "479b3eee",
   "metadata": {},
   "outputs": [],
   "source": [
    "conn.commit()"
   ]
  },
  {
   "cell_type": "code",
   "execution_count": 48,
   "id": "c2a9ed10",
   "metadata": {},
   "outputs": [],
   "source": [
    "# id = 2인 레코드의 price -> 2500000 변경\n",
    "update_sql = \"\"\"\n",
    "UPDATE items\n",
    "SET price = %s\n",
    "WHERE id = %s\n",
    "\"\"\"\n",
    "\n",
    "price = 2500000\n",
    "code = 2\n",
    "cur.execute(update_sql, (price, code))\n",
    "conn.commit()"
   ]
  },
  {
   "cell_type": "markdown",
   "id": "d0e90d59",
   "metadata": {},
   "source": [
    "## 데이터 삭제 (Delete)"
   ]
  },
  {
   "cell_type": "code",
   "execution_count": 58,
   "id": "c0c6edd0",
   "metadata": {},
   "outputs": [],
   "source": [
    "delete_sql = \"\"\"\n",
    "DELETE FROM items\n",
    "WHERE code = %s\n",
    "\n",
    "\"\"\"\n",
    "cur.execute(delete_sql, 'A0003') # %s 1개일 경우, tuple 생략 가능\n",
    "conn.commit()"
   ]
  },
  {
   "cell_type": "markdown",
   "id": "584ee9ac",
   "metadata": {},
   "source": [
    "# 4. commit, rollback 실행\n",
    "- insert, update, delete sql을 실행했을 경우는 반드시 실행해야 DB에 반영됨"
   ]
  },
  {
   "cell_type": "code",
   "execution_count": null,
   "id": "474db26c",
   "metadata": {},
   "outputs": [],
   "source": [
    "# 데이터 생성하기\n",
    "# code A0005, name 로봇청소기, price 1000000\n",
    "INSERT_SQL = \"\"\"\n",
    "INSERT INTO items(code, name, price)\n",
    "    VALUES(%s, %s, %s)\n",
    "\"\"\"\n",
    "cur.execute(INSERT_SQL, ('A0005', '로봇청소기', 1000000))\n",
    "conn.commit()"
   ]
  },
  {
   "cell_type": "code",
   "execution_count": 62,
   "id": "235701b3",
   "metadata": {},
   "outputs": [
    {
     "data": {
      "text/plain": [
       "1"
      ]
     },
     "execution_count": 62,
     "metadata": {},
     "output_type": "execute_result"
    }
   ],
   "source": [
    "INSERT_SQL = \"\"\"\n",
    "INSERT INTO items(code, name, price)\n",
    "    VALUES(%s, %s, %s)\n",
    "\"\"\"\n",
    "cur.execute(INSERT_SQL, ('A0006', '스타일러', 3500000))"
   ]
  },
  {
   "cell_type": "code",
   "execution_count": 63,
   "id": "47f2cf2e",
   "metadata": {},
   "outputs": [],
   "source": [
    "conn.rollback()"
   ]
  },
  {
   "cell_type": "code",
   "execution_count": null,
   "id": "171e07fb",
   "metadata": {},
   "outputs": [],
   "source": [
    "# DB에 가장 마지막에 반영한 이후 시점까지 되돌리기\n",
    "conn.rollback()"
   ]
  },
  {
   "cell_type": "code",
   "execution_count": 64,
   "id": "483f2d82",
   "metadata": {},
   "outputs": [
    {
     "data": {
      "text/plain": [
       "((1, 'A0001', 'TV', 1500000),\n",
       " (2, 'A0002', '에어컨 30평형', 2500000),\n",
       " (4, 'A0004', '최신형 노트북', 500000),\n",
       " (5, 'A0005', '로봇청소기', 1000000))"
      ]
     },
     "execution_count": 64,
     "metadata": {},
     "output_type": "execute_result"
    }
   ],
   "source": [
    "# 조회\n",
    "select_sql1 = \"SELECT * FROM items\"\n",
    "cur.execute(select_sql1)\n",
    "rows = cur.fetchall()\n",
    "rows"
   ]
  },
  {
   "cell_type": "markdown",
   "id": "d5cc8903",
   "metadata": {},
   "source": [
    "# 5. DB close()\n",
    "- 데이터 처리를 위해 연결한 DB연결 자원을 반환함"
   ]
  },
  {
   "cell_type": "code",
   "execution_count": null,
   "id": "7cb6a1ca",
   "metadata": {},
   "outputs": [],
   "source": [
    "conn.close()"
   ]
  }
 ],
 "metadata": {
  "kernelspec": {
   "display_name": "llm_env",
   "language": "python",
   "name": "python3"
  },
  "language_info": {
   "codemirror_mode": {
    "name": "ipython",
    "version": 3
   },
   "file_extension": ".py",
   "mimetype": "text/x-python",
   "name": "python",
   "nbconvert_exporter": "python",
   "pygments_lexer": "ipython3",
   "version": "3.10.19"
  }
 },
 "nbformat": 4,
 "nbformat_minor": 5
}
